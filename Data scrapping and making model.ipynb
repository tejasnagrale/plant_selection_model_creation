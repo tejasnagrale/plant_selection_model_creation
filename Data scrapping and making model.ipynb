{
 "cells": [
  {
   "cell_type": "markdown",
   "metadata": {},
   "source": [
    "## Scrapping of Plant name and Plant Link from website and saving it in excel ##"
   ]
  },
  {
   "cell_type": "code",
   "execution_count": null,
   "metadata": {},
   "outputs": [],
   "source": [
    "from bs4 import BeautifulSoup\n",
    "import pandas as pd\n",
    "import requests\n",
    "import numpy\n",
    "\n",
    "\n",
    "plantname=[]\n",
    "\n",
    "plantlink=[]\n",
    "\n",
    "pages=list(range(1,3))\n",
    "for page in pages:\n",
    "    r=requests.get('https://nurserylive.com/collections/plants?page={}'.format(page))\n",
    "    \n",
    "    soup=BeautifulSoup(r.content,\"html.parser\")\n",
    "    productlist=soup.find_all('div',class_='productitem')\n",
    "    \n",
    "    plantn=soup.findAll(attrs={\"class\":\"productitem--title\"})\n",
    "    for i in range(len(plantn)):\n",
    "        plantname.append(plantn[i].text.strip())\n",
    "        \n",
    "    \n",
    "    plantl=soup.findAll(attrs={\"class\":\"productitem--title\"})\n",
    "    for i in range(len(plantl)):\n",
    "        plantlink.append(plantl[i].a.get('href'))\n",
    "        \n",
    "print(len(plantname))\n",
    "print(len(plantlink))"
   ]
  },
  {
   "cell_type": "code",
   "execution_count": null,
   "metadata": {},
   "outputs": [],
   "source": [
    "df={'Plant Name':plantname[slice(2893)],'Plant Link':plantlink[slice(2893)]}\n",
    "dataset=pd.DataFrame(data=df)\n",
    "dataset.head()\n",
    "dataset.to_excel(\"Nursery Live Link.xlsx\")"
   ]
  },
  {
   "cell_type": "markdown",
   "metadata": {},
   "source": [
    "## Scrapping of images ##"
   ]
  },
  {
   "cell_type": "code",
   "execution_count": null,
   "metadata": {},
   "outputs": [],
   "source": [
    "import pandas as pd\n",
    "\n",
    "df=pd.read_excel(r\"C:\\Users\\lenovo\\Nursery Live Link.xlsx\")\n",
    "\n",
    "#df1=df.iloc[459,2] or \n",
    "df1='Curry Leaves '\n",
    "\n",
    "link = \"https://www.google.com/search?q={}&tbm=isch\".format(df1 + 'Potted images')\n",
    "path=r\"C:\\Users\\lenovo\\Downloads\\cd 91\\chromedriver.exe\"\n",
    "driver=webdriver.Chrome(path)\n",
    "\n",
    "driver.get(link)\n",
    "\n",
    "SCROLL_PAUSE_TIME = 2\n",
    "\n",
    "# Get scroll height\n",
    "last_height = driver.execute_script(\"return document.body.scrollHeight\")\n",
    "\n",
    "while True:\n",
    "    # Scroll down to bottom\n",
    "    driver.execute_script(\"window.scrollTo(0, document.body.scrollHeight);\")\n",
    "\n",
    "    # Wait to load page\n",
    "    time.sleep(SCROLL_PAUSE_TIME)\n",
    "\n",
    "    # Calculate new scroll height and compare with last scroll height\n",
    "    new_height = driver.execute_script(\"return document.body.scrollHeight\")\n",
    "    \n",
    "    if new_height == last_height:\n",
    "    #break #insert press load more\n",
    "        try:\n",
    "            element = driver.find_elements_by_class_name('mye4qd') #returns list\n",
    "            element[0].click()\n",
    "        except:\n",
    "            break\n",
    "    last_height = new_height\n",
    "    \n",
    "print(\"Reached the end of page\")"
   ]
  },
  {
   "cell_type": "code",
   "execution_count": null,
   "metadata": {},
   "outputs": [],
   "source": [
    "def null_count(l):\n",
    "    #given a list l, find the number of null\n",
    "    null_count = 0\n",
    "    \n",
    "    for element in l:\n",
    "        if element == None:\n",
    "            null_count += 1\n",
    "            \n",
    "    return null_count"
   ]
  },
  {
   "cell_type": "code",
   "execution_count": null,
   "metadata": {},
   "outputs": [],
   "source": [
    "#return a list clickable objects for each individual image\n",
    "image_links = driver.find_elements_by_class_name('rg_i.Q4LuWd')\n",
    "total = len(image_links)\n",
    "total"
   ]
  },
  {
   "cell_type": "code",
   "execution_count": null,
   "metadata": {},
   "outputs": [],
   "source": [
    "#use the list of object to search for 'data-src' and 'src' anchors\n",
    "data_src_links = [image_links[i].get_attribute('data-src') for i in range(total)]\n",
    "src_links = [image_links[i].get_attribute('src') for i in range(total)]\n",
    "data_src_links.count()"
   ]
  },
  {
   "cell_type": "code",
   "execution_count": null,
   "metadata": {},
   "outputs": [],
   "source": [
    "data_src_null_count = null_count(data_src_links)\n",
    "data_src_null_count "
   ]
  },
  {
   "cell_type": "code",
   "execution_count": null,
   "metadata": {},
   "outputs": [],
   "source": [
    "src_null_count = null_count(src_links)\n",
    "src_null_count"
   ]
  },
  {
   "cell_type": "code",
   "execution_count": null,
   "metadata": {},
   "outputs": [],
   "source": [
    "#Since the \"data_src\" anchor has less missing, we will use \"src\" anchor's list to fill in \"data_src\"\n",
    "\n",
    "for i,element in enumerate(data_src_links):\n",
    "    if element == None:\n",
    "        data_src_links[i] = src_links[i]"
   ]
  },
  {
   "cell_type": "code",
   "execution_count": null,
   "metadata": {},
   "outputs": [],
   "source": [
    "#check null count again\n",
    "\"Nulls: {}, Length: {}\".format(null_count(data_src_links), len(data_src_links))"
   ]
  },
  {
   "cell_type": "code",
   "execution_count": null,
   "metadata": {},
   "outputs": [],
   "source": [
    "!mkdir images"
   ]
  },
  {
   "cell_type": "code",
   "execution_count": null,
   "metadata": {},
   "outputs": [],
   "source": [
    "!mkdir images/{}.format(df1)"
   ]
  },
  {
   "cell_type": "code",
   "execution_count": null,
   "metadata": {},
   "outputs": [],
   "source": [
    "os.chdir('./images/{}'.format(df1))"
   ]
  },
  {
   "cell_type": "code",
   "execution_count": null,
   "metadata": {},
   "outputs": [],
   "source": [
    "for i,link in enumerate(data_src_links):\n",
    "    \n",
    "   \n",
    "    name = '{}{}.png'.format(df1, i)\n",
    "    \n",
    "    urllib.request.urlretrieve(link, name)\n",
    "    time.sleep(1)"
   ]
  },
  {
   "cell_type": "code",
   "execution_count": null,
   "metadata": {},
   "outputs": [],
   "source": [
    "driver.quit()"
   ]
  },
  {
   "cell_type": "markdown",
   "metadata": {},
   "source": [
    "## Creating a model ##"
   ]
  },
  {
   "cell_type": "code",
   "execution_count": null,
   "metadata": {},
   "outputs": [],
   "source": [
    "from tensorflow.keras.preprocessing.image import ImageDataGenerator\n",
    "from tensorflow.keras.preprocessing import image\n",
    "from tensorflow.keras.optimizers import RMSprop\n",
    "import cv2"
   ]
  },
  {
   "cell_type": "code",
   "execution_count": null,
   "metadata": {},
   "outputs": [],
   "source": [
    "img=image.load_img(r\"C:\\Users\\lenovo\\Desktop\\Plant Data Set\\Plant Dataset - Copy (2)\\train\\Money Plant\\Money Plant 0.png\")\n",
    "plt.imshow(img)"
   ]
  },
  {
   "cell_type": "code",
   "execution_count": null,
   "metadata": {},
   "outputs": [],
   "source": [
    "cv2.imread(r\"C:\\Users\\lenovo\\Desktop\\Plant Data Set\\Plant Dataset - Copy (2)\\train\\Money Plant\\Money Plant 0.png\")\n",
    "cv2.imread(r\"C:\\Users\\lenovo\\Desktop\\Plant Data Set\\Plant Dataset - Copy (2)\\train\\Money Plant\\Money Plant 0.png\").shape"
   ]
  },
  {
   "cell_type": "code",
   "execution_count": null,
   "metadata": {},
   "outputs": [],
   "source": [
    "train_dataset=train.flow_from_directory(r\"C:\\Users\\lenovo\\Desktop\\Plant Data Set\\Plant Dataset - Copy (2)\\train\",\n",
    "                                       target_size=(200,200),\n",
    "                                       batch_size=20,\n",
    "                                       class_mode='binary'\n",
    "                                       )\n",
    "validation_dataset=validation.flow_from_directory(r\"C:\\Users\\lenovo\\Desktop\\Plant Data Set\\Plant Dataset - Copy (2)\\validation\",\n",
    "                                       target_size=(200,200),\n",
    "                                       batch_size=20,\n",
    "                                       class_mode='binary'\n",
    "                                       )"
   ]
  },
  {
   "cell_type": "code",
   "execution_count": null,
   "metadata": {},
   "outputs": [],
   "source": [
    "train_dataset.class_indices"
   ]
  },
  {
   "cell_type": "code",
   "execution_count": null,
   "metadata": {},
   "outputs": [],
   "source": [
    "model=tf.keras.models.Sequential([tf.keras.layers.Conv2D(16,(3,3),activation='relu',input_shape=(200,200,3)),\n",
    "                                 tf.keras.layers.MaxPool2D(2,2),\n",
    "                                 #\n",
    "                                tf.keras.layers.Conv2D(32,(3,3),activation='relu'),\n",
    "                                tf.keras.layers.MaxPool2D(2,2),\n",
    "                                  #\n",
    "                                  tf.keras.layers.Conv2D(64,(3,3),activation='relu'),\n",
    "                                 tf.keras.layers.MaxPool2D(2,2),\n",
    "                                  ##\n",
    "                                  tf.keras.layers.Flatten(),\n",
    "                                  ##\n",
    "                                  tf.keras.layers.Dense(512,activation='relu'),\n",
    "                                  ##\n",
    "                                  tf.keras.layers.Dense(1,activation='sigmoid')\n",
    "                                 \n",
    "                                 \n",
    "                                 \n",
    "                                 \n",
    "                                 \n",
    "                                 ])"
   ]
  },
  {
   "cell_type": "code",
   "execution_count": null,
   "metadata": {},
   "outputs": [],
   "source": [
    "model.compile(loss='binary_crossentropy',\n",
    "             optimizer=RMSprop(lr=0.001),\n",
    "             metrics=['accuracy'])"
   ]
  },
  {
   "cell_type": "code",
   "execution_count": null,
   "metadata": {},
   "outputs": [],
   "source": [
    "model_fit=model.fit(train_dataset,\n",
    "                   steps_per_epoch=10,\n",
    "                   epochs=5,\n",
    "                   validation_data=validation_dataset)"
   ]
  },
  {
   "cell_type": "code",
   "execution_count": null,
   "metadata": {},
   "outputs": [],
   "source": [
    "dir_path=r\"C:\\Users\\lenovo\\Desktop\\Plant Data Set\\Plant Dataset - Copy (2)\\test\"\n",
    "\n",
    "for i in os.listdir(dir_path):\n",
    "    img=image.load_img(dir_path+'//'+i,target_size=(200,200))\n",
    "    plt.imshow(img)\n",
    "    plt.show()\n",
    "    \n",
    "    X = image.img_to_array(img)\n",
    "    X = np.expand_dims(X,axis=0)\n",
    "    images=np.vstack([X])\n",
    "    val= model.predict(images)\n",
    "    \n",
    "    if val == 0:\n",
    "        print(\"Money Plant\")\n",
    "    else:\n",
    "        print(\"Rubber Plant\")"
   ]
  },
  {
   "cell_type": "code",
   "execution_count": null,
   "metadata": {},
   "outputs": [],
   "source": [
    "plt.plot(model_fit.history['accuracy'])\n",
    "plt.plot(model_fit.history['val_accuracy'])\n",
    "plt.show()"
   ]
  }
 ],
 "metadata": {
  "kernelspec": {
   "display_name": "Python 3",
   "language": "python",
   "name": "python3"
  },
  "language_info": {
   "codemirror_mode": {
    "name": "ipython",
    "version": 3
   },
   "file_extension": ".py",
   "mimetype": "text/x-python",
   "name": "python",
   "nbconvert_exporter": "python",
   "pygments_lexer": "ipython3",
   "version": "3.7.4"
  }
 },
 "nbformat": 4,
 "nbformat_minor": 2
}
